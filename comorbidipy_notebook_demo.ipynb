{
 "cells": [
  {
   "cell_type": "markdown",
   "metadata": {},
   "source": [
    "## Simple Usage Comorbidipy Notebook\n",
    "\n",
    "By Matt Stammers - Computational Gastroenterologist\n",
    "\n",
    "11/04/2022\n",
    "\n",
    "1. To install download and unzip the package. Then call 'python setup.py install' to install the program.\n",
    "2. Then start a Kernel and run the below code with some dummy data you can either synthesise or I can provide."
   ]
  },
  {
   "cell_type": "code",
   "execution_count": 1,
   "metadata": {},
   "outputs": [],
   "source": [
    "# Import Packages\n",
    "\n",
    "from comorbidipy import comorbidity\n",
    "import pandas as pd"
   ]
  },
  {
   "cell_type": "code",
   "execution_count": 2,
   "metadata": {},
   "outputs": [],
   "source": [
    "# Import Data\n",
    "\n",
    "df = pd.read_csv('test_icd.csv')"
   ]
  },
  {
   "cell_type": "code",
   "execution_count": 3,
   "metadata": {},
   "outputs": [
    {
     "name": "stdout",
     "output_type": "stream",
     "text": [
      "Index(['ami', 'canc', 'cevd', 'chf', 'copd', 'diab', 'diabwc', 'hp',\n",
      "       'metacanc', 'mld', 'pud', 'pvd', 'rend', 'rheumd', 'aids', 'dementia',\n",
      "       'msld'],\n",
      "      dtype='object', name='code')\n"
     ]
    }
   ],
   "source": [
    "# Run Comorbidipy\n",
    "\n",
    "cci = comorbidity(df, id=\"id\", code=\"code\", age=\"age\")"
   ]
  },
  {
   "cell_type": "code",
   "execution_count": 6,
   "metadata": {},
   "outputs": [],
   "source": [
    "# Output the Result\n",
    "\n",
    "df.to_csv('some_dummy_output.csv')"
   ]
  },
  {
   "cell_type": "markdown",
   "metadata": {},
   "source": [
    "### Voila, you have done it!"
   ]
  }
 ],
 "metadata": {
  "kernelspec": {
   "display_name": "Python 3",
   "language": "python",
   "name": "python3"
  },
  "language_info": {
   "codemirror_mode": {
    "name": "ipython",
    "version": 3
   },
   "file_extension": ".py",
   "mimetype": "text/x-python",
   "name": "python",
   "nbconvert_exporter": "python",
   "pygments_lexer": "ipython3",
   "version": "3.8.5"
  }
 },
 "nbformat": 4,
 "nbformat_minor": 4
}
